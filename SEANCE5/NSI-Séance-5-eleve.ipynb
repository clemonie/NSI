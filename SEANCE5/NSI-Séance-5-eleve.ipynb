{
 "cells": [
  {
   "cell_type": "markdown",
   "metadata": {},
   "source": [
    "![titre](images/titre.png)"
   ]
  },
  {
   "cell_type": "markdown",
   "metadata": {},
   "source": [
    "## 1. Problème\n",
    "\n",
    "On souhaite dessiner  à l'aide de la bibliothèque $turtle$ les faces d'un dé, par exemple, la face 3.\n",
    "\n",
    "Les codes sont les suivants :"
   ]
  },
  {
   "cell_type": "code",
   "execution_count": 4,
   "metadata": {},
   "outputs": [],
   "source": [
    "from turtle import *\n",
    "\n",
    "\n",
    "#carré extérieur\n",
    "up()\n",
    "goto(50,-50)\n",
    "down()\n",
    "for i in range (4) : \n",
    "    left(90)\n",
    "    forward(100)\n",
    "    \n",
    "#point central\n",
    "up()\n",
    "goto(10,-10)\n",
    "down()\n",
    "begin_fill()\n",
    "for i in range(4) :\n",
    "    left(90)\n",
    "    forward(20)\n",
    "end_fill()\n",
    "\n",
    "#point inférieur droit\n",
    "up()\n",
    "goto(40,-40)\n",
    "down()\n",
    "begin_fill()\n",
    "for i in range(4) : \n",
    "    left(90)\n",
    "    forward(20)\n",
    "end_fill()\n",
    "\n",
    "\n",
    "#point supérieur gauche\n",
    "up()\n",
    "goto(-20,20)\n",
    "down()\n",
    "begin_fill()\n",
    "for i in range(4) : \n",
    "    left(90)\n",
    "    forward(20)\n",
    "end_fill()"
   ]
  },
  {
   "cell_type": "markdown",
   "metadata": {},
   "source": [
    "On se retrouve cependant avec un nombre important de fragments de code identique, la situation n'est pas très satisfaisante.\n",
    "\n",
    "Nous allons voir au cours de cette séance comment rendre le code plus élégant et plus léger en définissant des fonctions, c'est à dire des fragments de code réutisables."
   ]
  },
  {
   "cell_type": "markdown",
   "metadata": {},
   "source": [
    "## 2. Les fonctions\n",
    "\n"
   ]
  },
  {
   "cell_type": "markdown",
   "metadata": {},
   "source": [
    "<div class=\"alert alert-block alert-info\"><font size=4>\n",
    "    \n",
    "__Fonction, paramètre et argument__\n",
    "    \n",
    "* Les fonctions sont des blocs d’instructions.\n",
    "* Certaines fonctions utilisent variables envoyées par le programme, ces variables sont des paramètres. Les valeurs de ces variables sont appelées arguments.\n",
    "\n",
    "__Syntaxe pour définir la fonction__\n",
    "\n",
    "    def nomDeLaFonction(liste de paramètres):\n",
    "\n",
    "\t       ...\n",
    "        \n",
    "\t       bloc d'instructions\n",
    "        \n",
    "\t       ...\n",
    "        \n",
    "</font></div>"
   ]
  },
  {
   "cell_type": "markdown",
   "metadata": {},
   "source": [
    "<div class=\"alert alert-block alert-warning\">\n",
    "<b>Remarque</b> \n",
    "        \n",
    "* Ne pas oublier le \":\" à la fin de la fonction !\n",
    "</div>"
   ]
  },
  {
   "cell_type": "markdown",
   "metadata": {},
   "source": [
    "## <span style='color:#AC1620'> Exercice 1</span>\n",
    "\n",
    "Tester le code ci-dessous.\n",
    "1. Quel est le nom de la fonction ?\n",
    "2. Quel est le nom du paramètre de la fonction ?\n",
    "3. Quel est l’argument de ce paramètre ?\n"
   ]
  },
  {
   "cell_type": "code",
   "execution_count": 5,
   "metadata": {},
   "outputs": [
    {
     "name": "stdout",
     "output_type": "stream",
     "text": [
      "Donner un entier positif 6\n",
      "0\n",
      "1\n",
      "2\n",
      "3\n",
      "4\n",
      "5\n"
     ]
    }
   ],
   "source": [
    "def compteur(stop):\n",
    "    i = 0\n",
    "    while i < stop:\n",
    "        print(i)\n",
    "        i = i + 1\n",
    "\n",
    "a=int(input(\"Donner un entier positif \"))\n",
    "compteur(a)"
   ]
  },
  {
   "cell_type": "markdown",
   "metadata": {},
   "source": [
    "<div class=\"alert alert-block alert-success\">\n",
    "<b>Réponses</b>\n",
    "</div>"
   ]
  },
  {
   "cell_type": "markdown",
   "metadata": {},
   "source": [
    "## <span style='color:#AC1620'> Exercice 2</span>\n",
    "\n",
    "Reprendre l’exemple précédent et inverser la partie concernant la définition de la fonction avec la partie concernant l’appel de la fonction. Conclure."
   ]
  },
  {
   "cell_type": "code",
   "execution_count": null,
   "metadata": {},
   "outputs": [],
   "source": []
  },
  {
   "cell_type": "markdown",
   "metadata": {},
   "source": [
    "<div class=\"alert alert-block alert-success\">\n",
    "<b>Réponses</b>\n",
    "</div>"
   ]
  },
  {
   "cell_type": "markdown",
   "metadata": {},
   "source": [
    "### 2.1. Fonctions avec plusieurs paramètres\n",
    "\n"
   ]
  },
  {
   "cell_type": "markdown",
   "metadata": {},
   "source": [
    "## <span style='color:#AC1620'> Exercice 3</span>\n",
    "    \n",
    "Tester le code ci-dessous.\n",
    "1. Quel est le nombre de paramètres de la fonction ?\n",
    "2. Quels sont les noms de ces paramètres ?"
   ]
  },
  {
   "cell_type": "code",
   "execution_count": null,
   "metadata": {},
   "outputs": [],
   "source": [
    "def compteur_complet(start, stop, step):\n",
    "  i = start\n",
    "  while i < stop:\n",
    "    print(i)\n",
    "    i = i + step\n",
    "    \n",
    "debut=int(input(\"Depuis quel nombre faut-il compter ? \"))\n",
    "fin=int(input(\"Jusqu'à quel nombre faut-il compter ? \"))\n",
    "pas=int(input(\"De combien en combien faut-il compter ? \"))\n",
    "compteur_complet(debut, fin, pas)"
   ]
  },
  {
   "cell_type": "markdown",
   "metadata": {},
   "source": [
    "<div class=\"alert alert-block alert-success\">\n",
    "<b>Réponses</b>\n",
    "</div>"
   ]
  },
  {
   "cell_type": "markdown",
   "metadata": {},
   "source": [
    "## <span style='color:#AC1620'> Exercice 4</span>\n",
    "\n",
    "Revenons à notre problème de départ. Proposer une fonction $carre$ ayant pour paramètre $d$ où $d$ est la taille de carré. Proposer également une fonction $deplacement(x,y)$ permettant de se déplacer horizontalement de $x$ et verticalement de $y$, puis, tester à nouveau le programme en appelant la fonction pour obtenir la même figure."
   ]
  },
  {
   "cell_type": "code",
   "execution_count": null,
   "metadata": {},
   "outputs": [],
   "source": []
  },
  {
   "cell_type": "markdown",
   "metadata": {},
   "source": [
    "Ce code présente l'avantage d'être modifiable dans son ensemble. Plutôt que de reprendre le code dans son ensemble, on agit sur le code simplement en modifiant la fonction. On constate toutefois que le problème n'est pas encore correctement découpé car on reproduit de nombreuses fois les mêmes lignes..."
   ]
  },
  {
   "cell_type": "markdown",
   "metadata": {},
   "source": [
    "## <span style='color:#AC1620'> Exercice 5</span>\n",
    "\n",
    "Proposer une fonction $carre(x,y,z)$ qui intègre le déplacement de la tortue et créer une fonction carre_rempli(x,y,z) pour reproduire de nouveau la figure."
   ]
  },
  {
   "cell_type": "code",
   "execution_count": 19,
   "metadata": {},
   "outputs": [],
   "source": []
  },
  {
   "cell_type": "markdown",
   "metadata": {},
   "source": [
    "Voilà qui est bien mieux !! Pour les plus rapide, modifier le programme pour ajouter le paramètre de couleur afin de n'avoir plus qu'une seule fonction $carre\\_rempli()$. Constater ce qu'il peut se passe si vous produisez le carré extérieur en dernier."
   ]
  },
  {
   "cell_type": "code",
   "execution_count": 24,
   "metadata": {},
   "outputs": [],
   "source": []
  },
  {
   "cell_type": "markdown",
   "metadata": {},
   "source": [
    "### 2.2. Variables locales et variables globales"
   ]
  },
  {
   "cell_type": "markdown",
   "metadata": {},
   "source": [
    "<div class=\"alert alert-block alert-info\"><font size=4>\n",
    "    \n",
    "__Variable locale__\n",
    "\n",
    "* Les variables définies à l’intérieur d’une fonction sont des **variables locales**, elles ne sont pas connues à l’extérieur de la fonction.\n",
    "* Les variables définies à l’extérieur d’une fonction sont des **variables globales**, elles sont connues à l’intérieur de la fonction mais la fonction ne peut les modifier.\n",
    "        \n",
    "</font></div>"
   ]
  },
  {
   "cell_type": "markdown",
   "metadata": {},
   "source": [
    "<div class=\"alert alert-block alert-warning\">\n",
    "<b>Remarque</b> \n",
    "        \n",
    "Une variable locale peut avoir le même nom qu’une variable globale mais elle reste indépendante.\n",
    "</div>"
   ]
  },
  {
   "cell_type": "markdown",
   "metadata": {},
   "source": [
    "## <span style='color:#AC1620'> Exercice 5</span>\n",
    "\n",
    "Tester le code ci-dessous.\n",
    "1. La fonction utilisée a-t-elle un ou des paramètres ?\n",
    "2. Quelle est la différence entre la variable b à l’intérieur la fonction et la variable b à l’extérieur de la fonction ?\n",
    "3. Pourquoi n’y a-t-il pas de différence entre la variable a à l’intérieur la fonction et la variable a à l’extérieur de la fonction ?"
   ]
  },
  {
   "cell_type": "code",
   "execution_count": 12,
   "metadata": {},
   "outputs": [
    {
     "name": "stdout",
     "output_type": "stream",
     "text": [
      "À l'intérieur de la définition de la fonction : a = 2  et b = 5\n",
      "À l'extérieur de la définition de la fonction : a = 2  et b = 6\n"
     ]
    }
   ],
   "source": [
    "def test():\n",
    "    b = 5\n",
    "    print(\"À l'intérieur de la définition de la fonction : a =\",a,\" et b =\", b)\n",
    "    \n",
    "a = 2\n",
    "b = 6\n",
    "test()\n",
    "print(\"À l'extérieur de la définition de la fonction : a =\",a,\" et b =\", b)\n"
   ]
  },
  {
   "cell_type": "markdown",
   "metadata": {},
   "source": [
    "<div class=\"alert alert-block alert-success\">\n",
    "<b>Réponses</b>\n",
    "</div>"
   ]
  },
  {
   "cell_type": "markdown",
   "metadata": {},
   "source": [
    "<div class=\"alert alert-block alert-warning\">\n",
    "<b>Remarque</b> \n",
    "La commande « global » permet de rendre globale une variable utilisée dans une fonction :\n",
    "</div>\n"
   ]
  },
  {
   "cell_type": "code",
   "execution_count": 18,
   "metadata": {},
   "outputs": [
    {
     "name": "stdout",
     "output_type": "stream",
     "text": [
      "À l'intérieur de la définition de la fonction : a = 2  et b = 6\n",
      "À l'extérieur de la définition de la fonction : a = 2  et b = 6\n"
     ]
    }
   ],
   "source": [
    "def test():\n",
    "    global d\n",
    "    print(\"À l'intérieur de la définition de la fonction : a =\",a,\" et b =\", b)\n",
    "    \n",
    "a = 2\n",
    "b = 6\n",
    "test()\n",
    "print(\"À l'extérieur de la définition de la fonction : a =\",a,\" et b =\", b)"
   ]
  },
  {
   "cell_type": "markdown",
   "metadata": {},
   "source": [
    "### 2.3. Fonction renvoyant une valeur\n",
    "\n",
    "Les fonctions décrites jusqu’à présent ne sont pas tout à fait des fonctions au sens strict, mais plus exactement des procédures. Une « vraie » fonction (au sens strict) doit en effet renvoyer une valeur lorsqu’elle se termine avec la notation ``return``. \n",
    "\n",
    "## <span style='color:#AC1620'> Exercice 6</span>\n",
    "\n",
    "La somme des $n$ entiers de 1 à n est égale à $\\frac{\\displaystyle n \\times (n-1)}{\\displaystyle 2}$. Introduisons une fonction $somme()$.\n",
    "\n",
    "Tester le code ci-dessous.\n",
    "\n",
    "Quelle est la commande pour récupérer dans le programme la valeur renvoyée par une fonction ?"
   ]
  },
  {
   "cell_type": "code",
   "execution_count": 29,
   "metadata": {},
   "outputs": [
    {
     "name": "stdout",
     "output_type": "stream",
     "text": [
      "Jusqu'à quel entier réalise-t-on la somme ?1235232665623\n",
      "762899869110433446656253\n"
     ]
    }
   ],
   "source": [
    "def somme(n) :\n",
    "    '''retourne la sommes des entiers de 1 à n'''\n",
    "    return n*(n-1)//2\n",
    "\n",
    "nombre=int(input(\"Jusqu'à quel entier réalise-t-on la somme ?\"))\n",
    "print(somme(nombre))"
   ]
  },
  {
   "cell_type": "markdown",
   "metadata": {},
   "source": [
    "<div class=\"alert alert-block alert-success\">\n",
    "<b>Réponses</b>\n",
    "</div>"
   ]
  },
  {
   "cell_type": "markdown",
   "metadata": {},
   "source": [
    "## <span style='color:#AC1620'> Exercice 7</span>\n",
    "\n",
    "Écrire la fonction valeur_absolue qui prend un entier en argument et renvoie sa valeur absolue.\n",
    "\n",
    "* $|-2|=2$ ; \n",
    "* $|2|=2$ ; \n"
   ]
  },
  {
   "cell_type": "code",
   "execution_count": 30,
   "metadata": {},
   "outputs": [
    {
     "name": "stdout",
     "output_type": "stream",
     "text": [
      "5\n"
     ]
    }
   ],
   "source": []
  },
  {
   "cell_type": "markdown",
   "metadata": {},
   "source": [
    "## <span style='color:#AC1620'> Exercice 8</span>\n",
    "\n",
    "En utilisant la bibliothèque $turtle$, dessiner le drapeau français à l'aide d'une fonction rectangle().\n",
    "\n",
    "![drapeuax](./images/drapeau.png)"
   ]
  },
  {
   "cell_type": "code",
   "execution_count": 45,
   "metadata": {},
   "outputs": [],
   "source": []
  },
  {
   "cell_type": "markdown",
   "metadata": {},
   "source": [
    "## <span style='color:#AC1620'> Exercice 9</span>\n",
    "\n",
    "Créer une fonction $triangle()$ et reproduire les images ci-dessous : \n",
    "\n",
    "![result](./images/result.png)\n"
   ]
  },
  {
   "cell_type": "code",
   "execution_count": 63,
   "metadata": {},
   "outputs": [],
   "source": []
  },
  {
   "cell_type": "markdown",
   "metadata": {},
   "source": [
    "## <span style='color:#AC1620'> Exercice 8</span>\n",
    "\n",
    "Écrire une fonction $bissextile(a)$ qui renvoie 'True' (booléen) si l'année $a$ est bissextile et 'False' sinon."
   ]
  },
  {
   "cell_type": "code",
   "execution_count": 68,
   "metadata": {},
   "outputs": [
    {
     "data": {
      "text/plain": [
       "True"
      ]
     },
     "execution_count": 68,
     "metadata": {},
     "output_type": "execute_result"
    }
   ],
   "source": []
  },
  {
   "cell_type": "code",
   "execution_count": null,
   "metadata": {},
   "outputs": [],
   "source": []
  }
 ],
 "metadata": {
  "kernelspec": {
   "display_name": "Python 3",
   "language": "python",
   "name": "python3"
  },
  "language_info": {
   "codemirror_mode": {
    "name": "ipython",
    "version": 3
   },
   "file_extension": ".py",
   "mimetype": "text/x-python",
   "name": "python",
   "nbconvert_exporter": "python",
   "pygments_lexer": "ipython3",
   "version": "3.7.3"
  }
 },
 "nbformat": 4,
 "nbformat_minor": 2
}
