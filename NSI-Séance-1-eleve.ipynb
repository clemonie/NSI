{
 "cells": [
  {
   "cell_type": "markdown",
   "metadata": {},
   "source": [
    "![titre](./images/titre.png)"
   ]
  },
  {
   "cell_type": "markdown",
   "metadata": {},
   "source": [
    "# Construction élémentaires \n",
    "\n",
    "\n",
    "## 1. Affectation\n",
    "\n",
    "Dans les programmes informatiques, on doit souvent stocker des données pour les utiliser plus tard. Ce stockage est fait dans des **variables**.\n",
    "\n",
    "### 1.1 Affectation simple \n",
    "\n",
    "Supposons que l’on veuille stocker la valeur 300, on peut utiliser une variable nommée par exemple « a ».\n",
    "Cela va donner :\n",
    "\n",
    "<TABLE BORDER=\"1\"> \n",
    "  <CAPTION> Affectation simple </CAPTION> \n",
    "  <TR> \n",
    " <TH width=20%> En langage naturel </TH> \n",
    " <TH width=25%> En pseudo-code</TH> \n",
    " <TH width=25%> En python </TH> \n",
    "  </TR> \n",
    "  <TR> \n",
    " <TD> a prend la valeur 300 ou affecter à a la valeur 300</TD> \n",
    " <TD> 300 &rarr; a <br> ou <br> a &larr; 300 </TD> \n",
    " <TD> a=300</TD> \n",
    "  </TR> \n",
    "</TABLE>\n",
    "\n",
    "\n"
   ]
  },
  {
   "cell_type": "markdown",
   "metadata": {},
   "source": [
    "<div class=\"alert alert-block alert-info\"><font size=4>\n",
    "Une affectation est le fait de donner une valeur à une variable.En Python une affectation est effectuée avec le signe « = », la variable étant écrite en premier et le contenu qu’elle doit prendre étant écrit en deuxième.</font></div>"
   ]
  },
  {
   "cell_type": "markdown",
   "metadata": {},
   "source": [
    "#### Remarques : \n",
    "* Le signe = n’a pas le même sens en informatique et en mathématiques. Ainsi, en informatique, l’instruction « 300 = a » ne veut rien dire (on ne peut pas affecter « a » à  300 !).\n",
    "* L’instruction « a = 300 » est une affectation (on affecte la valeur 300 à la variable « a »).\n",
    "* En informatique, « a = b » ne veut pas dire la même chose que « b = a ».\n",
    "*  Une affectation dans une variable peut faire appel à la variable elle-même.\n",
    "<br>\n",
    "<br>\n",
    "Par exemple a = a + 1 peut se traduire par : la variable a prend la valeur (actuelle) de a + 1.\n",
    "*  On utilisera des noms de variables écrit en minuscules. Certains caractères sont interdits dans les noms de variables : -, *, ‘, )… Les nombres peuvent être utilisés mais pas au début du nom de la variable."
   ]
  },
  {
   "cell_type": "markdown",
   "metadata": {},
   "source": [
    "## <span style='color:#AC1620'> Exercice 1</span>\n",
    "\n",
    "\n",
    "Comprendre les algorithmes suivants et donner dans chaque cas valeur finale de r.\n",
    "\n",
    "<TABLE BORDER=\"1\"> \n",
    "  <CAPTION> Affectation simple </CAPTION> \n",
    "  <TR> \n",
    " <TH width=50%> En langage naturel </TH> \n",
    " <TH width=50%> En pseudo-code</TH> \n",
    "  </TR> \n",
    "  <TR> \n",
    " <TD>Affecter à m la valeur 2 <br>\n",
    "Affecter à n la valeur m – 1 <br>\n",
    "Affecter à p la valeur n + 4 <br>\n",
    "Affecter à q la valeur 3 p <br>\n",
    "Affecter à r la valeur p + q </TD> \n",
    " <TD> p ← 1<br>\n",
    "r ← p + 3 <br>\n",
    "p ← p – 1 <br>\n",
    "r ← p + 5 </TD> \n",
    "  </TR> \n",
    "</TABLE>"
   ]
  },
  {
   "cell_type": "markdown",
   "metadata": {},
   "source": [
    "* sur feuille, indiquer la valeurs attendues\n",
    "* En Python, utiliser la console (console de Spyder) pour trouver les résultats.\n",
    "* Coder chaque algorithme dans les deux cellules qui suivent. Pour afficher le résultats, on utilisera la commande ```print()```"
   ]
  },
  {
   "cell_type": "code",
   "execution_count": 4,
   "metadata": {},
   "outputs": [],
   "source": [
    "m=2\n"
   ]
  },
  {
   "cell_type": "markdown",
   "metadata": {},
   "source": [
    "### 1.2 Écrasement et copie\n",
    "\n",
    "## <span style='color:#AC1620'> Exercice 2</span>\n",
    "\n",
    "Dans la console (Spyder), taper les instructions suivantes et noter les observations."
   ]
  },
  {
   "cell_type": "markdown",
   "metadata": {},
   "source": [
    "![tableau](./images/0.png)"
   ]
  },
  {
   "cell_type": "markdown",
   "metadata": {},
   "source": [
    "<div class=\"alert alert-block alert-success\">\n",
    "<b>Observation</b>\n",
    "\n",
    "</div>"
   ]
  },
  {
   "cell_type": "markdown",
   "metadata": {},
   "source": [
    "<div class=\"alert alert-block alert-info\"><font size=4>\n",
    "    \n",
    "• **Écrasement**\n",
    "    \n",
    "Quand on met une valeur dans une variable, toute valeur existant déjà dans la variable est effacée.\n",
    "\n",
    "• **Copie**\n",
    "\n",
    "L'affectation entre variables copie le contenu d'une variable sans l’effacer.\n",
    "\n",
    "</font></div>"
   ]
  },
  {
   "cell_type": "markdown",
   "metadata": {},
   "source": [
    "### 1.3 Affectation multiple et permutation\n",
    "\n",
    "## <span style='color:#AC1620'> Exercice 3</span>\n",
    "\n",
    "Dans la console, taper les instructions suivantes et noter les observations."
   ]
  },
  {
   "cell_type": "markdown",
   "metadata": {},
   "source": [
    "![photo2](./images/2.png)"
   ]
  },
  {
   "cell_type": "markdown",
   "metadata": {},
   "source": [
    "<div class=\"alert alert-block alert-success\">\n",
    "<b>Observation</b>\n",
    "\n",
    "</div>"
   ]
  },
  {
   "cell_type": "markdown",
   "metadata": {},
   "source": [
    "<div class=\"alert alert-block alert-info\"><font size=4>\n",
    "    \n",
    "• **Affectation multiples**\n",
    "\n",
    "En Python on peut affecter plusieurs variables en même temps en les séparant par des virgules.\n",
    "\n",
    "• **Permutation**\n",
    "\n",
    "En Python on peut utiliser une affectation multiple pour permuter des variables.\n",
    "\n",
    "</font></div>"
   ]
  },
  {
   "cell_type": "markdown",
   "metadata": {},
   "source": [
    "## 2. Sortie"
   ]
  },
  {
   "cell_type": "markdown",
   "metadata": {},
   "source": [
    "<div class=\"alert alert-block alert-info\"><font size=4>\n",
    "    \n",
    "• **Sortie**\n",
    "\n",
    "Une sortie est une donnée (valeur numérique, chaine de caractères, tableau…) émises par l'unité centrale à destination d'un périphérique (disque, réseau, écran, imprimante, actionneur…).\n",
    "\n",
    "</font></div>"
   ]
  },
  {
   "cell_type": "markdown",
   "metadata": {},
   "source": [
    "En mode console, pour afficher la valeur d’une variable, il suffit de taper son nom (exemples : exercices ci-dessus).\n",
    "En mode éditeur, pour afficher la valeur d’une variable ou un texte on doit utiliser la fonction : ```print(…)```"
   ]
  },
  {
   "cell_type": "markdown",
   "metadata": {},
   "source": [
    "<TABLE BORDER=\"1\"> \n",
    "  <TR> \n",
    " <TH width=15%> Pour afficher la valeur d'une variable nommée dist </TH> \n",
    " <TH width=33%> Pour afficher un texte</TH> \n",
    " <TH width=33%> Pour afficher les deux, on sépare avec une virgule</TH>       \n",
    "  </TR> \n",
    "  <TR> \n",
    " <TD> <span style='red'> print(dist)</span>  </TD> \n",
    " <TD> <span style='red'> print(\"distance calculée\")</span> </TD> \n",
    "<TD> <span style='red'> print(\"distance calculée = \", dist)</span> </TD> \n",
    "  </TR> \n",
    "</TABLE>"
   ]
  },
  {
   "cell_type": "markdown",
   "metadata": {},
   "source": [
    "## <span style='color:#AC1620'> Exercice 4</span>\n",
    "\n",
    "1. Réaliser un petit programme qui : \n",
    "    * affecte à la longueur d'un rectangle 12 m ; \n",
    "    * affecte à sa largeur 5 m ; \n",
    "    * calcule l'aire et l'affiche en écrivant une phrase complète.\n"
   ]
  },
  {
   "cell_type": "code",
   "execution_count": null,
   "metadata": {},
   "outputs": [],
   "source": []
  },
  {
   "cell_type": "markdown",
   "metadata": {},
   "source": [
    "\n",
    "2. Écrire un petit programe qui affiche le résultat de la puissance $x$ du nombre $n$ et donne en sortie le résultat. Essayer le programme avec $n=2$ et $x=15$"
   ]
  },
  {
   "cell_type": "code",
   "execution_count": null,
   "metadata": {},
   "outputs": [],
   "source": []
  },
  {
   "cell_type": "markdown",
   "metadata": {},
   "source": [
    "## 3. Type de données\n",
    "\n",
    "L’informatique est la science de la manipulation des informations, ou des données.\n",
    "Celles-ci peuvent se présenter sous différents aspects, entre autres :\n",
    "*  des nombres entiers, tels que :  4 ; 236 ; – 21 etc.\n",
    "*  des nombres réels, tels que : 3.14 ; – 1.732 etc.\n",
    "*  du texte, par exemple : \"Bonjour tout le monde !\"\n",
    "*  des tableaux ou listes contenant des données, par exemple :\n",
    "jours = [\"Samedi\",\"Dimanche\",\"Lundi\",\"Mardi\",\"Mercredi\",\"Jeudi\",\"Vendredi\"]"
   ]
  },
  {
   "cell_type": "markdown",
   "metadata": {},
   "source": [
    "<div class=\"alert alert-block alert-info\"><font size=4>\n",
    "    \n",
    "En Python on peut obtenir le type d’une variable avec la commande type ().\n",
    "\n",
    "</font></div>"
   ]
  },
  {
   "cell_type": "markdown",
   "metadata": {},
   "source": [
    "## <span style='color:#AC1620'> Exercice 5</span>\n",
    "\n",
    "\n",
    "1.Entrer les commandes suivantes dans la console de Python et observer le résultat.\n",
    "Quel est le type d’un entier ? d’un réel non entier ? d’une chaine de caractères ?\n",
    "\n",
    "* ```>>> a = 30```\n",
    "* ```>>> type (a)```\n",
    "* ```>>> b = 30/4```\n",
    "* ```>>> type (b)```\n",
    "* ```>>> c = \"NSI\"```\n",
    "* ```>>> type (c)```\n"
   ]
  },
  {
   "cell_type": "markdown",
   "metadata": {},
   "source": [
    "2.Entrer les commandes suivantes dans la console de Python et observer le résultat.\n",
    "\n",
    "* ```>>> nb1 = 10```\n",
    "* ```>>> nb2=20```\n",
    "* ```>>> nb1+nb2```\n",
    "* ```>>> chn1='encore'```\n",
    "* ```>>> chn2=\" 1\"```\n",
    "* ```>>> chn3=\" test\"```\n",
    "* ```>>> chn1+chn2+chn3``\n",
    "* ```>>> chn1+nb1``"
   ]
  },
  {
   "cell_type": "markdown",
   "metadata": {},
   "source": [
    "<div class=\"alert alert-block alert-success\">\n",
    "<b>Réponses</b>\n",
    "\n",
    "\n",
    "\n",
    "</div>"
   ]
  },
  {
   "cell_type": "markdown",
   "metadata": {},
   "source": [
    "<div class=\"alert alert-block alert-info\"><font size=4>\n",
    "    \n",
    "En Python on ne peut pas « ajouter » des données de types différents.\n",
    "\n",
    "Pour convertir un int ou un float en str on utilise la commande str ().\n",
    "Il existe aussi la commande float () pour convertir en flottant et la commande int () pour convertir en entier.\n",
    "\n",
    "</font></div>\n",
    "\n"
   ]
  },
  {
   "cell_type": "markdown",
   "metadata": {},
   "source": [
    "## <span style='color:#AC1620'> Exercice 6</span>\n",
    "\n",
    "1.À la suite des commandes précédentes, entrer les commandes suivantes dans la console de Python et observer le résultat.\n",
    "* ```>>> chn2+str(nb2)```\n",
    "* ```>>> str(nb1)```\n",
    "* ```>>> float(nb1)```\n",
    "* ```>>> int(nb1)```\n",
    "* ```>>> int(5.75)```\n",
    "* ```>>> int(chn2)``\n",
    "* ```>>> int(chn1)``\n",
    "* ```>>> float(chn2)``\n"
   ]
  },
  {
   "cell_type": "markdown",
   "metadata": {},
   "source": [
    "<div class=\"alert alert-block alert-success\">\n",
    "<b>Observation</b>\n",
    "\n",
    "</div>"
   ]
  },
  {
   "cell_type": "markdown",
   "metadata": {},
   "source": [
    "2.Compléter le programme ci-dessous pour qu'il affiche le résultat suivant : \n",
    "\n",
    "        Le produit de 38 par 7 est 266\n",
    "\n",
    "        La division de 38 par 7 est environ égale à 5.428571428571429\n",
    "\n",
    "        Dans 38, il y a 5 fois le nombre 7 et des poussières"
   ]
  },
  {
   "cell_type": "code",
   "execution_count": 6,
   "metadata": {},
   "outputs": [],
   "source": [
    "a='38'\n",
    "b=7.0"
   ]
  },
  {
   "cell_type": "markdown",
   "metadata": {},
   "source": [
    "Remarque : \n",
    "* La conversion du type entier vers le type réel est automatique (exemple : 4 + 7.02 donne 11.02).\n",
    "*  Une division donne toujours un flottant."
   ]
  },
  {
   "cell_type": "markdown",
   "metadata": {},
   "source": [
    "## Entrée\n",
    "\n",
    "Il est parfois utile d’avoir un programme qui interagit avec l’utilisateur et lui demande, par exemple, d’entrer une valeur ou une chaine de caractères."
   ]
  },
  {
   "cell_type": "markdown",
   "metadata": {},
   "source": [
    "<div class=\"alert alert-block alert-info\"><font size=4>\n",
    "    \n",
    "**Entrée**\n",
    "\n",
    "En Python on peut demander une entrée à l’utilisateur avec la commande input (). Cette commande renvoie du texte.\n",
    "\n",
    "Pour préciser le type de l’entrée, cette commande peut être précédée de int ou float.\n",
    "\n",
    "</font></div>"
   ]
  },
  {
   "cell_type": "markdown",
   "metadata": {},
   "source": [
    "## <span style='color:#AC1620'> Exercice 7</span>\n",
    "\n",
    "1. Écrire un programme en Python qui demande à un utilisateur son prénom (par exemple Obiwan) et affiche le message \"Bonjour Obiwan\"."
   ]
  },
  {
   "cell_type": "code",
   "execution_count": null,
   "metadata": {},
   "outputs": [],
   "source": []
  },
  {
   "cell_type": "markdown",
   "metadata": {},
   "source": [
    "2. Tester le programme suivant et essayer de la réparer, soit en modifiant uniquement la seconde ligne, soit en modifiant la première ligne."
   ]
  },
  {
   "cell_type": "code",
   "execution_count": null,
   "metadata": {},
   "outputs": [],
   "source": [
    "nbr=input(\"Taper un nombre : \")\n",
    "print(\"le double du nombre\", nbr,\"est\", 2*nbr)"
   ]
  },
  {
   "cell_type": "markdown",
   "metadata": {},
   "source": [
    "## <span style='color:#AC1620'> Exercice 8</span>\n",
    "\n",
    "\n",
    "Voici un algorithme :\n",
    "• étant donnés deux nombres entiers ;\n",
    "• multiplier le premier nombre par 2 ;\n",
    "• multiplier le second nombre par 3 ;\n",
    "• ajouter les deux résultats précédents ;\n",
    "• afficher le dernier résultat.\n",
    "\n",
    "1. Que donne cet algorithme quand on y entre les nombres 4 et 7 ?\n",
    "2. Traduire l’algorithme en pseudo-code.\n",
    "3. Traduire l’algorithme en Python, l’exécuter et vérifier la réponse à la question 1°) ."
   ]
  },
  {
   "cell_type": "code",
   "execution_count": null,
   "metadata": {},
   "outputs": [],
   "source": [
    "nbr1 = int(input(\"Quel est le premier entier ? \"))\n",
    "nbr2 = int(input(\"Quel est le premier entier ? \"))\n",
    "nbr1bis=nbr1*2\n",
    "nbr2bis=nbr2*3\n",
    "nbr=nbr1bis+nbr2bis\n",
    "print(\"Résultat = \", nbr)"
   ]
  },
  {
   "cell_type": "markdown",
   "metadata": {},
   "source": [
    "<div class=\"alert alert-block alert-success\">\n",
    "<b>Réponses</b>\n",
    "\n",
    "\n",
    "\n",
    "</div>"
   ]
  },
  {
   "cell_type": "markdown",
   "metadata": {},
   "source": [
    "## <span style='color:#AC1620'> Exercice 9</span>\n",
    "\n",
    "Un magicien demande à un spectateur :\n",
    "* de penser à un nombre entier ; \n",
    "* de le multiplier par 5 ; \n",
    "* d’ajouter 7 au résultat ;\n",
    "* de multiplier par 4 le résultat ;\n",
    "* d’ajouter 6 au résultat ;\n",
    "* de multiplier par 5 le résultat ;\n",
    "*  d'annoncer le résultat final obtenu.\n",
    "\n",
    "\n",
    "1.Le spectateur pense au nombre 4, quel nombre annonce-t-il ?\n",
    "\n",
    "2.Créer un programme Python qui :\n",
    "    \n",
    "   * demande un nombre entier ;\n",
    "   * effectue les opérations demandées par le magicien ;\n",
    "   * affiche le résultat final (celui que le spectateur annonce).\n",
    "   \n",
    "À l’aide de ce programme, vérifiez la réponse à la question 1°).\n",
    "\n",
    "3.Le magicien trouve à chaque fois le nombre choisi au départ par le spectateur !\n",
    "Soit il est très fort en calcul mental, soit il a un truc de magicien… \n",
    "En appelant x le nombre choisi par le spectateur. Écrire en fonction de x le résultat qu’il annonce.\n",
    "\n",
    "4.Écrire un programme Python qui :\n",
    "* demande au spectateur d’entrer le nombre obtenu à la fin du calcul dicté par le magicien ;\n",
    "* effectue les opérations ;\n",
    "* affiche le résultat final (le nombre auquel le spectateur a pensé)."
   ]
  },
  {
   "cell_type": "markdown",
   "metadata": {},
   "source": [
    "<div class=\"alert alert-block alert-success\">\n",
    "<b>Réponses au 1.</b>\n",
    "\n",
    "\n",
    "\n",
    "</div>"
   ]
  },
  {
   "cell_type": "code",
   "execution_count": null,
   "metadata": {},
   "outputs": [],
   "source": []
  },
  {
   "cell_type": "markdown",
   "metadata": {},
   "source": [
    "<div class=\"alert alert-block alert-success\">\n",
    "<b>Réponses au 3.</b>\n",
    "\n",
    "\n",
    "\n",
    "</div>"
   ]
  },
  {
   "cell_type": "code",
   "execution_count": null,
   "metadata": {},
   "outputs": [],
   "source": []
  },
  {
   "cell_type": "markdown",
   "metadata": {},
   "source": [
    "## <span style='color:#AC1620'> Exercice 10</span>"
   ]
  },
  {
   "cell_type": "markdown",
   "metadata": {},
   "source": [
    "1. Dans la plupart des langages informatiques (et dans Geogebra), la racine carrée se note sqrt() (pour square root). Par exemple,  s’écrit sqrt(3).\n",
    "Taper la ligne suivante dans la console Python :\n",
    "```>>> a=sqrt(3)```\n",
    "Python retourne que le nom sqrt n’est pas défini ! Cela veut dire que la fonction sqrt() ne fait pas partie des fonctions de base de Python.\n",
    "\n",
    "On peut enrichir les fonctions de Python en ajoutant au début du programme l’instruction :\n",
    "```from math import sqrt```qui veut dire : aller chercher dans la librairie (bibliothèque) « math » la fonction sqrt.\n",
    "\n",
    "**Remarque** : on évitera de récupérer toutes les fonctions de la bibliothèque math en tapant : from math import *\n",
    "\n",
    "Retaper maintenant dans la console Python : ```>>> a=sqrt(3)```\n",
    "\n",
    "2. Faire un programme qui demande les deux côtés de l’angle droit dans un triangle rectangle et affiche la longueur approchée à une décimale de l’hypoténuse. \n",
    "\n",
    "**Aide 1** le carré a de a peut etre noté $a**2$, le double signe « $**$ » signifie « puissance » en Python.\n",
    "\n",
    "**Aide 2** : utiliser la fonction round(nbre, nbre de décimale)"
   ]
  },
  {
   "cell_type": "code",
   "execution_count": null,
   "metadata": {},
   "outputs": [],
   "source": []
  },
  {
   "cell_type": "markdown",
   "metadata": {},
   "source": [
    "## <span style='color:#AC1620'> Exercice 11</span>\n",
    "\n",
    "Écrire un programme qui demande à l'utilisateur d'entrer un nombre de secondes et qui affichee sous forme d''heures/minutes/secondes.\n",
    "\n",
    "**Aide** : Python fournit la valeur entière de la division à l'aide de l'opérateur // (ex =7//3 =2)"
   ]
  },
  {
   "cell_type": "code",
   "execution_count": null,
   "metadata": {},
   "outputs": [],
   "source": []
  }
 ],
 "metadata": {
  "kernelspec": {
   "display_name": "Python 3",
   "language": "python",
   "name": "python3"
  },
  "language_info": {
   "codemirror_mode": {
    "name": "ipython",
    "version": 3
   },
   "file_extension": ".py",
   "mimetype": "text/x-python",
   "name": "python",
   "nbconvert_exporter": "python",
   "pygments_lexer": "ipython3",
   "version": "3.7.3"
  }
 },
 "nbformat": 4,
 "nbformat_minor": 2
}
