{
 "cells": [
  {
   "cell_type": "markdown",
   "metadata": {},
   "source": [
    "![titre](images/titre.png)"
   ]
  },
  {
   "cell_type": "markdown",
   "metadata": {},
   "source": [
    "Il est possible de \"stocker\" plusieurs grandeurs dans une même structure, ce type de structure est appelé une séquence. "
   ]
  },
  {
   "cell_type": "markdown",
   "metadata": {},
   "source": [
    "<div class=\"alert alert-block alert-info\"><font size=4>\n",
    "    \n",
    "__• Séquence__\n",
    "\n",
    "Une séquence de n éléments est un ensemble fini et ordonné d'éléments indicés de 0 à n-1 séparés les uns des autres par des virgules.\n",
    "        \n",
    "</font></div>"
   ]
  },
  {
   "cell_type": "markdown",
   "metadata": {},
   "source": [
    "<div class=\"alert alert-block alert-warning\">\n",
    "<b>Remarque</b> \n",
    "        \n",
    "Deux types de séquences sont au programme de 1ere en NSI : les p-uplets (ou tuples) et les tableaux.\n",
    "</div>"
   ]
  },
  {
   "cell_type": "markdown",
   "metadata": {},
   "source": [
    " ## 1. Les  _p_-uplets\n",
    "\n",
    "### 1.1 Définition"
   ]
  },
  {
   "cell_type": "markdown",
   "metadata": {},
   "source": [
    "<div class=\"alert alert-block alert-info\"><font size=4>\n",
    "    \n",
    "__•  p-uplet__\n",
    "\n",
    "- Un p-uplet est une séquence non modifiable (on parle d’objet __immutable__).\n",
    "- Un p-uplet est déclaré en plaçant les éléments entre parenthèses et en séparant les éléments par des virgules.\n",
    "- Les éléments d’un p-uplet peuvent être de types différents.\n",
    "- On accède à un élément d’un p-uplet en plaçant son indice entre crochets.\n",
    "        \n",
    "</font></div>"
   ]
  },
  {
   "cell_type": "markdown",
   "metadata": {},
   "source": [
    "### 1.2 Affectation simple et type"
   ]
  },
  {
   "cell_type": "markdown",
   "metadata": {},
   "source": [
    "Un tuple est défini à l'aide de parenthèses, mais il peut tout aussi bien être défini sans parenthèses, avec les termes uniquement séparés par des virgules."
   ]
  },
  {
   "cell_type": "code",
   "execution_count": null,
   "metadata": {},
   "outputs": [],
   "source": [
    "tup1=()\n",
    "tup2=(3,) # tuple avec un seul élément\n",
    "tup3=(1,4,5,'moto',4.6)\n",
    "tup4='truc', 2,6,12,'bien'\n",
    "type(tup4)\n"
   ]
  },
  {
   "cell_type": "markdown",
   "metadata": {},
   "source": [
    "À noter qu'une chaine de caractère est un tuple consitué de chacune de ses lettres. t='Je suis un tuple', alors t[0] donne 'J'. On peut aussi convertir en tuple avec tt=tuple(t) ce qui est inutile dans le cas d'une chaine de caractères. Faites print(tt) vous verrez. Notez donc que tuple est une commande qui convertit en tuple."
   ]
  },
  {
   "cell_type": "code",
   "execution_count": null,
   "metadata": {},
   "outputs": [],
   "source": [
    "t='je suis un tuple'\n",
    "print(t[5])\n",
    "tt=tuple(t)\n",
    "print(tt)"
   ]
  },
  {
   "cell_type": "markdown",
   "metadata": {},
   "source": [
    "### 1.3 Accéder aux données"
   ]
  },
  {
   "cell_type": "code",
   "execution_count": null,
   "metadata": {},
   "outputs": [],
   "source": [
    "print(tup3[1])\n",
    "print(tup3[-1])\n",
    "print(tup4[0])"
   ]
  },
  {
   "cell_type": "markdown",
   "metadata": {},
   "source": [
    "__Bonus (non exigible)__  : Pour afficher aux éléments entre l'index $i$ et l'index $j$ on utilise les slice: ``t[i:j]`` "
   ]
  },
  {
   "cell_type": "code",
   "execution_count": null,
   "metadata": {},
   "outputs": [],
   "source": [
    "print(tup3[1:4])\n",
    "a=2,3"
   ]
  },
  {
   "cell_type": "markdown",
   "metadata": {},
   "source": [
    "## <span style='color:#AC1620'> Exercice 1</span> \n",
    "\n",
    "1. Écrire un programme python qui :\n",
    "    - demande à l’utilisateur de donner l’indice d’un élément de la liste ci-dessous ;\n",
    "    - affiche cet élément.\n",
    "2. Que se passe-t-il lorsque l’on demande un élément avec un indice trop grand ? \n",
    "3. Que se passe-t-il lorsque l’on demande un élément avec un indice négatif ? Quelle est la limite ?"
   ]
  },
  {
   "cell_type": "code",
   "execution_count": null,
   "metadata": {},
   "outputs": [],
   "source": [
    "eleve1 = (\"sophie\" , \"1G04\" , 2014 , 13)\n",
    "\n"
   ]
  },
  {
   "cell_type": "markdown",
   "metadata": {},
   "source": [
    "<div class=\"alert alert-block alert-success\">\n",
    "<b>Réponses</b>\n",
    "    \n",
    "    \n",
    "</div>"
   ]
  },
  {
   "cell_type": "markdown",
   "metadata": {},
   "source": [
    "### 1.4. Emballer ou déballer un tupple\n",
    "\n",
    "L'exemple ``tuple1 = 'a', 123 , True`` est appelé __emballage__ de tuple. Mais l'inverse est aussi possible:\n",
    "\n",
    "``a,b,c= tuple1`` donnera ``'a'`` pour ``a,`` ``123`` pour et ``True`` pour ``c``. Cela s'appelle un __déballage(disperser)__ de tuple. On peut aussi disperser un tuple en mettant une $*$ devant son nom"
   ]
  },
  {
   "cell_type": "markdown",
   "metadata": {},
   "source": [
    "## <span style='color:#AC1620'> Exercice 2</span> \n",
    "\n",
    "Dans le programme ci-dessous, on a définit une fonction capable de calculer la moyenne des termes (tous de type $float$ ou $int$) d'un tuple de 5 notes.\n",
    "\n",
    "Déballer le tupple $note$ pour calculer la moyenne."
   ]
  },
  {
   "cell_type": "code",
   "execution_count": null,
   "metadata": {},
   "outputs": [],
   "source": [
    "def moyenne(a,b,c,d,e) : \n",
    "    return (a+b+c+d+e)/5\n",
    "\n",
    "\n",
    "note=(6,14,14,8,8)\n",
    "\n"
   ]
  },
  {
   "cell_type": "markdown",
   "metadata": {},
   "source": [
    "## <span style='color:#AC1620'> Exercice 3</span> \n",
    "\n",
    "En utilisant les tuples pour les coordonnées x,y de points dans un répère du plan, créer une fonction qui calcule la distance entre deux points d'un repère orthonormé. "
   ]
  },
  {
   "cell_type": "code",
   "execution_count": null,
   "metadata": {},
   "outputs": [],
   "source": []
  },
  {
   "cell_type": "markdown",
   "metadata": {},
   "source": [
    "### 1.5. Nombre d'éléments d'un p-uplet et itérations"
   ]
  },
  {
   "cell_type": "markdown",
   "metadata": {},
   "source": [
    "Pour connaître le nombre d'éléments comportant un p-uplet, on utilise la fonction ``len()``, comme par exemple ci-dessous : "
   ]
  },
  {
   "cell_type": "code",
   "execution_count": null,
   "metadata": {
    "scrolled": true
   },
   "outputs": [],
   "source": [
    "t='je suis un tuple'\n",
    "tt=tuple(t)\n",
    "print(tt)\n",
    "print(len(t))"
   ]
  },
  {
   "cell_type": "markdown",
   "metadata": {},
   "source": [
    "Il est possible d'itérer dans un tuple comme le montre l'exemple ci-dessous : \n",
    "    "
   ]
  },
  {
   "cell_type": "code",
   "execution_count": null,
   "metadata": {},
   "outputs": [],
   "source": [
    "planetes=('Mercure', 'Vénus', 'la Terre', 'Mars', 'Jupiter', 'Saturne', 'Uranus', 'Neptune')\n",
    "for i in range (len(planetes)) : \n",
    "    print(planetes[i], 'est planète numéro', i+1, 'en partant du Soleil.')"
   ]
  },
  {
   "cell_type": "markdown",
   "metadata": {},
   "source": [
    "## <span style='color:#AC1620'> Exercice 4</span> \n",
    "\n",
    "Le tuple $bilan$ ci-dessous comprends un grand nombre de notes. Réaliser une fonction qui permet de connaitre le nombre de notes au dessus dune note fixée par l'utilisateur."
   ]
  },
  {
   "cell_type": "code",
   "execution_count": null,
   "metadata": {},
   "outputs": [],
   "source": [
    "bilan=(12,5,6,8,14,16,18,2,19,20,12,13,15,5,8,9,12,15,2,4,8,6,7,20,19,1,15,14,4,8,12,15,16,8,20,1)\n",
    "\n"
   ]
  },
  {
   "cell_type": "markdown",
   "metadata": {},
   "source": [
    "## <span style='color:#AC1620'> Exercice 5</span> \n",
    "\n",
    "Réaliser  une fonction capable de calculer la moyenne du tuple $bilan$"
   ]
  },
  {
   "cell_type": "code",
   "execution_count": null,
   "metadata": {},
   "outputs": [],
   "source": []
  },
  {
   "cell_type": "markdown",
   "metadata": {},
   "source": [
    "### 1.6. tuple de tuple !\n",
    "\n",
    "Il est possible de construire de tuple de tuple. Par exemple, les notes et leur coefficient."
   ]
  },
  {
   "cell_type": "code",
   "execution_count": null,
   "metadata": {},
   "outputs": [],
   "source": [
    "notes_coef=((12,2), (14,3),(8,1),(12,4),(9,3))"
   ]
  },
  {
   "cell_type": "markdown",
   "metadata": {},
   "source": [
    "Pour accéder au coefficient (indice [0] de chaque tuple) pour la troisième note (indice [2]), on écrira : ``notes_coef[2][1]``"
   ]
  },
  {
   "cell_type": "code",
   "execution_count": null,
   "metadata": {},
   "outputs": [],
   "source": [
    "notes_coef=((12,2), (14,3),(8,1),(12,4),(9,3))\n",
    "print(notes_coef[2][1])"
   ]
  },
  {
   "cell_type": "markdown",
   "metadata": {},
   "source": [
    "## <span style='color:#AC1620'> Exercice 6</span> \n",
    "\n",
    "Réaliser une fonction qui permet de calculer la moyenne pondérée du tuple $coef\\_notes$"
   ]
  },
  {
   "cell_type": "code",
   "execution_count": null,
   "metadata": {},
   "outputs": [],
   "source": []
  },
  {
   "cell_type": "markdown",
   "metadata": {},
   "source": [
    "### 1.8 Ajout d'un élément à un p-uplet"
   ]
  },
  {
   "cell_type": "markdown",
   "metadata": {},
   "source": [
    "<div class=\"alert alert-block alert-info\"><font size=4>\n",
    "    \n",
    "On peut rallonger un p-uplet en ajoutant un élément.\n",
    "\n",
    "On ne peut pas intercaler (simplement) un nouvel élément à l’intérieur d’un p-uplet.\n",
    "        \n",
    "</font></div>"
   ]
  },
  {
   "cell_type": "markdown",
   "metadata": {},
   "source": [
    "## <span style='color:#AC1620'> Exercice 7</span>\n",
    "\n",
    "1. Tester le code ci-dessous. Conclure\n",
    "2. Essayer d'ajouter un élément à la fin d'un p-uplet. Conclure"
   ]
  },
  {
   "cell_type": "code",
   "execution_count": null,
   "metadata": {},
   "outputs": [],
   "source": [
    "eleve1 = (\"sophie\" , \"1G04\" , 2014 , 13)\n",
    "eleve1 = ('DUPOND',) + eleve1\n",
    "print(eleve1)\n"
   ]
  },
  {
   "cell_type": "code",
   "execution_count": null,
   "metadata": {},
   "outputs": [],
   "source": []
  },
  {
   "cell_type": "markdown",
   "metadata": {},
   "source": [
    "<div class=\"alert alert-block alert-success\">\n",
    "<b>Réponse</b>\n",
    "\n",
    "</div>"
   ]
  },
  {
   "cell_type": "markdown",
   "metadata": {},
   "source": [
    "### 1.9. Tuple et fonction"
   ]
  },
  {
   "cell_type": "markdown",
   "metadata": {},
   "source": [
    "<div class=\"alert alert-block alert-info\"><font size=4>\n",
    "    \n",
    "- Une fonction peut renvoyer un p-uplet.\n",
    "- Les différents éléments du p-uplet sont récupérés dans des variables auxquelles on affecte de façon multiple les valeurs renvoyées (autant de variable que d’élément dans le p-uplet).\n",
    "        \n",
    "</font></div>"
   ]
  },
  {
   "cell_type": "markdown",
   "metadata": {},
   "source": [
    "## <span style='color:#AC1620'> Exercice 8</span>\n",
    "\n",
    "Les commandes sum(tuple),len,min,max donnent respectivement la somme, le nombre d'éléments, le min et le max d'un tuple. Écrire une fonction qui renvoie le tuple composé du min, max, moyenne. "
   ]
  },
  {
   "cell_type": "code",
   "execution_count": null,
   "metadata": {},
   "outputs": [],
   "source": [
    "bilan=(12,5,6,8,14,16,18,2,19,20,12,13,15,5,8,9,12,15,2,4,8,6,7,20,19,1,15,14,4,8,12,15,16,8,20,1)\n",
    "\n"
   ]
  },
  {
   "cell_type": "markdown",
   "metadata": {},
   "source": [
    "## 2. p-uples nommés\n",
    "\n",
    "Afin de pouvoir nommer un tuple, il faut tout d'abord importer l'objet namedtuple de la bibliothèque collections avec la commande: ``from collections import namedtuple``.\n",
    "\n",
    "L'avantage à nommer un tuple est de lui donner une structure figée et de pouvoir en rappeler les élèments qui le constituent avec un nom plutôt qu'avec un index. Cela peut bien souvent faciliter la compréhension du programme !\n",
    "\n",
    "Prenons l'exemple classique des coordonnées d'un point dans un repère cartésien. Nous pourrions faire:\n"
   ]
  },
  {
   "cell_type": "code",
   "execution_count": null,
   "metadata": {},
   "outputs": [],
   "source": [
    "A=(2,0)\n",
    "B=(5,6)"
   ]
  },
  {
   "cell_type": "markdown",
   "metadata": {},
   "source": [
    "pour afficher le x on ferait B[0] ou A[0]. Avec les tuples nommés on pourrait écrire ``A.x`` et ``B.x`` en ayant préalablement crée l'objet Point ainsi:"
   ]
  },
  {
   "cell_type": "code",
   "execution_count": null,
   "metadata": {},
   "outputs": [],
   "source": [
    "from collections import namedtuple\n",
    "\n",
    "#On crée le p-uplet nommé à l'aide de la commande namedtuple('nom de la classe de tuple','noms des donnés')\n",
    "Point=namedtuple('Point','abscisse , ordonnee')\n",
    "p1=Point(2,3)\n",
    "p2=Point(5,6)\n",
    "\n",
    "print(p1.abscisse)\n",
    "print(p1.ordonnee)"
   ]
  },
  {
   "cell_type": "markdown",
   "metadata": {},
   "source": [
    "## <span style='color:#AC1620'> Exercice 9</span>\n",
    "\n",
    "Réaliser une fonction qui permet de calculer la distance de deux p-uplets nommés correspondants aux coordonnées dans un repère cartésien."
   ]
  },
  {
   "cell_type": "code",
   "execution_count": null,
   "metadata": {},
   "outputs": [],
   "source": [
    "from collections import namedtuple\n",
    "from math import sqrt\n",
    "\n"
   ]
  }
 ],
 "metadata": {
  "kernelspec": {
   "display_name": "Python 3",
   "language": "python",
   "name": "python3"
  },
  "language_info": {
   "codemirror_mode": {
    "name": "ipython",
    "version": 3
   },
   "file_extension": ".py",
   "mimetype": "text/x-python",
   "name": "python",
   "nbconvert_exporter": "python",
   "pygments_lexer": "ipython3",
   "version": "3.7.3"
  }
 },
 "nbformat": 4,
 "nbformat_minor": 2
}
