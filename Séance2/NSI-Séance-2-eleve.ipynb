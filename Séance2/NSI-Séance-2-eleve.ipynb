{
 "cells": [
  {
   "cell_type": "markdown",
   "metadata": {},
   "source": [
    "![titre](images/titre.png)"
   ]
  },
  {
   "cell_type": "markdown",
   "metadata": {},
   "source": [
    "## Jouons un peu avec Turtle\n",
    "\n",
    "La bibliothèque **turtle** comprends des instructions permettant d'orienter et de déplacer la tortue dans le plan cartésien à deux dimensions (enutilisant le repère standars de mathématiques.\n",
    "\n",
    "La tortue commence au point de coordonnées (0,0) situé au centre de l'écran, et est orientée par l'axe des abscisses. Les distances sont mesurées en pixel et les angles en degrés.\n",
    "\n",
    "Voici quelques instructions : \n",
    "<TABLE BORDER=\"1\"> \n",
    "  <CAPTION> bibiothèque turtle</CAPTION> \n",
    "      <TR> \n",
    "         <TH width=50%> instruction</TH> \n",
    "         <TH width=50%> description</TH> \n",
    "      </TR> \n",
    "      <TR> \n",
    "         <TD> ```goto(x,y)``` </TD> \n",
    "         <TD> aller au point de coordonnées (x,y)</TD> \n",
    "      </TR> \n",
    "      <TR> \n",
    "         <TD> ```forward(d)``` </TD> \n",
    "         <TD> avancer de la distance d</TD> \n",
    "      </TR> \n",
    "      <TR> \n",
    "         <TD> ```backward``` </TD> \n",
    "         <TD>reculer de la distance d</TD> \n",
    "      </TR> \n",
    "      <TR> \n",
    "         <TD> ```left(a)``` </TD> \n",
    "         <TD> pivoter à gauche d'un angle a</TD> \n",
    "      </TR> \n",
    "      <TR> \n",
    "         <TD> ```right(a)``` </TD> \n",
    "         <TD> pivoter à droite d'un angle a</TD> \n",
    "      </TR> \n",
    "      <TR> \n",
    "         <TD> ```circle(r,a)``` </TD> \n",
    "         <TD> tracer un arc de cercle de rayon r et d'angle a </TD> \n",
    "      </TR> \n",
    "      <TR> \n",
    "         <TD> ```dot(r)``` </TD> \n",
    "         <TD> tracer un point de rayons r</TD> \n",
    "      </TR> \n",
    "</TABLE>\n"
   ]
  },
  {
   "cell_type": "markdown",
   "metadata": {},
   "source": [
    "Observons ce que réalise ce programme"
   ]
  },
  {
   "cell_type": "code",
   "execution_count": 1,
   "metadata": {},
   "outputs": [],
   "source": [
    "from turtle import *\n",
    "forward(60)\n",
    "left(120)\n",
    "forward(60)\n",
    "right(90)\n",
    "circle(60,300)\n",
    "right(90)\n",
    "forward(60)\n",
    "goto(0,0)"
   ]
  },
  {
   "cell_type": "markdown",
   "metadata": {},
   "source": [
    "S'ajoute une série d'instructions permettant de modifier les dessins produits par chacund es déplacements.\n",
    "\n",
    "<TABLE BORDER=\"1\"> \n",
    "  <CAPTION> bibiothèque turtle</CAPTION> \n",
    "      <TR> \n",
    "         <TH width=50%> instruction</TH> \n",
    "         <TH width=50%> description</TH> \n",
    "      </TR> \n",
    "      <TR> \n",
    "         <TD> ```up()``` </TD> \n",
    "         <TD> relever le crayon et interrompre le dessin</TD> \n",
    "      </TR> \n",
    "      <TR> \n",
    "         <TD> ```down()``` </TD> \n",
    "         <TD> reposer le crayon</TD> \n",
    "      </TR> \n",
    "      <TR> \n",
    "         <TD> ```width(e)``` </TD> \n",
    "         <TD>fixe à $e$ l'épaisseur du dessin</TD> \n",
    "      </TR> \n",
    "      <TR> \n",
    "         <TD> ```color(c)``` </TD> \n",
    "         <TD> sélectionne la couleur $c$ pour le trait</TD> \n",
    "      </TR> \n",
    "      <TR> \n",
    "         <TD> ```right(a)``` </TD> \n",
    "         <TD> pivoter à droite d'un angle a</TD> \n",
    "      </TR> \n",
    "      <TR> \n",
    "         <TD> ```begin_fill()``` </TD> \n",
    "         <TD> active le mode remplissage </TD> \n",
    "      </TR> \n",
    "      <TR> \n",
    "         <TD> ```end_fill()``` </TD> \n",
    "         <TD> désactive le mode remplissage</TD> \n",
    "      </TR> \n",
    "      <TR> \n",
    "         <TD> ```fillcolor(c)``` </TD> \n",
    "         <TD> sélectionne la couleur $c$ pour le remplissage</TD> \n",
    "      </TR> \n",
    "</TABLE>\n",
    "\n"
   ]
  },
  {
   "cell_type": "markdown",
   "metadata": {},
   "source": [
    "Voici un petit exemple : "
   ]
  },
  {
   "cell_type": "code",
   "execution_count": 2,
   "metadata": {},
   "outputs": [],
   "source": [
    "#rectangle épais\n",
    "width(6)\n",
    "color(0.2,0.2,0.2)\n",
    "goto(60,0)\n",
    "goto(60,110)\n",
    "goto(0,110)\n",
    "goto(0,0)\n",
    "#déplacement\n",
    "up()\n",
    "goto(5,5)\n",
    "down()\n",
    "#sablier gris clair\n",
    "width(1)\n",
    "fillcolor(\"grey\")\n",
    "begin_fill()\n",
    "goto(55,5)\n",
    "goto(5,105)\n",
    "goto(55,105)\n",
    "goto(5,5)\n",
    "end_fill()"
   ]
  },
  {
   "cell_type": "markdown",
   "metadata": {},
   "source": [
    "Il existe quelques instructions permettant  de configurer l'action de la bibliothèques turtle.\n",
    "\n",
    "<TABLE BORDER=\"1\"> \n",
    "  <CAPTION> bibiothèque turtle</CAPTION> \n",
    "      <TR> \n",
    "         <TH width=50%> instruction</TH> \n",
    "         <TH width=50%> description</TH> \n",
    "      </TR> \n",
    "      <TR> \n",
    "         <TD> ```reset()``` </TD> \n",
    "         <TD> tout effacer et recommencer à zéro</TD> \n",
    "      </TR> \n",
    "      <TR> \n",
    "         <TD> ```speed(s)``` </TD> \n",
    "         <TD> défiinir la vitesse de déplacement de la tortue</TD> \n",
    "      </TR> \n",
    "      <TR> \n",
    "         <TD> ```title(t)``` </TD> \n",
    "         <TD>donner le titre $t$ à la fén^etre de dessin</TD> \n",
    "      </TR> \n",
    "      <TR> \n",
    "         <TD> ```ht()``` </TD> \n",
    "         <TD> ne montre plus la tortue</TD> \n",
    "      </TR> \n",
    " </TABLE>\n",
    "\n",
    "\n",
    "## <span style='color:#AC1620'> Exercice 1</span>\n",
    "\n",
    "Reproduire les dessins suivants avec Turtle. Utiliser pour cela les instructions begin_fill et end_fill.\n",
    "\n",
    "![Dessinn à faire](images/dessins.png)\n"
   ]
  },
  {
   "cell_type": "code",
   "execution_count": 26,
   "metadata": {},
   "outputs": [],
   "source": [
    "\n",
    "\n",
    "\n"
   ]
  },
  {
   "cell_type": "markdown",
   "metadata": {},
   "source": [
    "On constate que certains morceaux de code sont répétitifs. Il existe une manière de pouvoir le condenser et de gagner du temps !"
   ]
  },
  {
   "cell_type": "markdown",
   "metadata": {},
   "source": [
    "## 1. Boucles\n",
    "\n",
    "Il est parfois utile d’avoir une partie de programme qui se répète plusieurs fois. On parle de boucle.\n",
    "Il en existe de deux sortes : \n",
    "* des boucles bornées ;\n",
    "* des boucles non bornées.\n",
    "\n",
    "### 1.1. Boucles bornées"
   ]
  },
  {
   "cell_type": "markdown",
   "metadata": {},
   "source": [
    "<div class=\"alert alert-block alert-info\"><font size=4>\n",
    "    \n",
    "**Boucle for**   (appelé aussi boucle pour)\n",
    "\n",
    "Une boucle for se termine après un nombre défini de répétitions.\n",
    "Une telle boucle est une **boucle bornée** car le nombre d’itération est connu à l’avance.\n",
    "\n",
    "**Syntaxe**\n",
    "\n",
    "For variable allant de _ _ _ à _ _ _:\n",
    "\n",
    "> Instruction A\n",
    "\n",
    "```variable``` est une variable doit être modifiée dans la boucle.\n",
    "\n",
    "Le nombre de boucle doit impérativement etre un entier.\n",
    "</font></div>"
   ]
  },
  {
   "cell_type": "markdown",
   "metadata": {},
   "source": [
    "## <span style='color:#AC1620'> Exercice 2</span>\n",
    "    \n",
    "1. Exécuter le code suivant : \n"
   ]
  },
  {
   "cell_type": "code",
   "execution_count": 27,
   "metadata": {},
   "outputs": [
    {
     "name": "stdout",
     "output_type": "stream",
     "text": [
      "0 au carré =  0\n",
      "1 au carré =  1\n",
      "2 au carré =  4\n",
      "3 au carré =  9\n",
      "4 au carré =  16\n"
     ]
    }
   ],
   "source": [
    "for i in range(5):\n",
    "   print(i, \"au carré = \", i**2)"
   ]
  },
  {
   "cell_type": "markdown",
   "metadata": {},
   "source": [
    "2. Dans cette boucle, quelle est la première valeur de i ? Quelle est la dernière valeur de i ?\n",
    "3. Dans une boucle for définie par for i in range(N), quelle est la première valeur de i ? Quelle est la dernière valeur de i ?\n",
    "4. Combien de fois une boucle for définie par for i in range(N) se répète-t-elle ? "
   ]
  },
  {
   "cell_type": "markdown",
   "metadata": {},
   "source": [
    "\n",
    "<div class=\"alert alert-block alert-success\">\n",
    "<b>Réponses</b>\n",
    "</div>\n",
    "\n"
   ]
  },
  {
   "cell_type": "markdown",
   "metadata": {},
   "source": [
    "## <span style='color:#AC1620'> Exercice 3</span>\n",
    "    \n",
    "1. Exécuter le code suivant :"
   ]
  },
  {
   "cell_type": "code",
   "execution_count": 28,
   "metadata": {},
   "outputs": [
    {
     "name": "stdout",
     "output_type": "stream",
     "text": [
      "1 au carré =  1\n",
      "2 au carré =  4\n",
      "3 au carré =  9\n",
      "4 au carré =  16\n",
      "5 au carré =  25\n",
      "6 au carré =  36\n",
      "7 au carré =  49\n"
     ]
    }
   ],
   "source": [
    "for i in range(1, 8):\n",
    "   print(i, \"au carré = \", i**2)"
   ]
  },
  {
   "cell_type": "markdown",
   "metadata": {},
   "source": [
    "2. Dans cette boucle, quelle est la première valeur de i ? Quelle est la dernière valeur de i ?\n",
    "3. Dans une boucle for définie par for i in range(M,N), quelle est la première valeur de i ? Quelle est la dernière valeur de i ?\n",
    "4. Combien de fois une boucle for définie par for i in range(M,N) se répète-t-elle ? "
   ]
  },
  {
   "cell_type": "markdown",
   "metadata": {},
   "source": [
    "<div class=\"alert alert-block alert-success\">\n",
    "<b>Réponses</b>\n",
    "</div>\n"
   ]
  },
  {
   "cell_type": "markdown",
   "metadata": {},
   "source": [
    "## <span style='color:#AC1620'> Exercice 4</span>\n",
    "\n",
    "Reprendre le code de l'hexagone à réaliser avec la bibliothèque turtle en y associant une boucle\n",
    " "
   ]
  },
  {
   "cell_type": "code",
   "execution_count": 30,
   "metadata": {},
   "outputs": [],
   "source": [
    "##beaucoup plus court !!"
   ]
  },
  {
   "cell_type": "markdown",
   "metadata": {},
   "source": [
    "Modifier le porgramme pour : \n",
    "* qu'il demande à l'utilisateur le nombre de côté du polygone ; \n",
    "* trace un polygone à $n$ côté."
   ]
  },
  {
   "cell_type": "code",
   "execution_count": 52,
   "metadata": {},
   "outputs": [
    {
     "name": "stdout",
     "output_type": "stream",
     "text": [
      "Nombre de côté du polygone : 7\n"
     ]
    }
   ],
   "source": []
  },
  {
   "cell_type": "markdown",
   "metadata": {},
   "source": [
    "## <span style='color:#AC1620'> Exercice 5</span>\n",
    "\n",
    "Avec $turtle$, réaliser un programme qui : \n",
    "* demande à l'utilisateur de donner le nombre de tour de spirale ; \n",
    "* réalise une spirale (suite de demi-cercle de plus en plus grands) dont le trait de crayon grossit à chaque tour.\n",
    "\n",
    "![spirale](images/spirale.png)"
   ]
  },
  {
   "cell_type": "code",
   "execution_count": 36,
   "metadata": {},
   "outputs": [
    {
     "name": "stdout",
     "output_type": "stream",
     "text": [
      "Combien de tours de spirale ? 10\n"
     ]
    }
   ],
   "source": []
  },
  {
   "cell_type": "markdown",
   "metadata": {},
   "source": [
    "## <span style='color:#AC1620'> Exercice 6</span>\n",
    "\n",
    "Réaliser un programme qui demande à l'utilisateur : \n",
    "* de rentrer le nombre d'élèves ; \n",
    "* pour chaque élève demande la note ; \n",
    "* retourne la moyenne une fois toutes les notes rentrées.\n"
   ]
  },
  {
   "cell_type": "code",
   "execution_count": 38,
   "metadata": {},
   "outputs": [
    {
     "name": "stdout",
     "output_type": "stream",
     "text": [
      "Enter le nombre d'élèves : 5\n",
      "Entrer une note : \n",
      " 5\n",
      "Entrer une note : \n",
      " 15\n",
      "Entrer une note : \n",
      " 10\n",
      "Entrer une note : \n",
      " 12\n",
      "Entrer une note : \n",
      " 8\n",
      "La moyenne est :  10.0\n"
     ]
    }
   ],
   "source": []
  },
  {
   "cell_type": "markdown",
   "metadata": {},
   "source": [
    "Il est possible d'imbrique plusieurs boucles for."
   ]
  },
  {
   "cell_type": "code",
   "execution_count": 42,
   "metadata": {},
   "outputs": [
    {
     "name": "stdout",
     "output_type": "stream",
     "text": [
      "Début du tour\n",
      "0 0\n",
      "0 1\n",
      "0 2\n",
      "fin du tour\n",
      "Début du tour\n",
      "1 0\n",
      "1 1\n",
      "1 2\n",
      "fin du tour\n",
      "Début du tour\n",
      "2 0\n",
      "2 1\n",
      "2 2\n",
      "fin du tour\n",
      "Début du tour\n",
      "3 0\n",
      "3 1\n",
      "3 2\n",
      "fin du tour\n"
     ]
    }
   ],
   "source": [
    "n=4\n",
    "m=3\n",
    "for i in range(n) : \n",
    "    print(\"Début du tour\")\n",
    "    for j in range(m) : \n",
    "        print(i,j)\n",
    "    print(\"fin du tour\")"
   ]
  },
  {
   "cell_type": "markdown",
   "metadata": {},
   "source": [
    "## <span style='color:#AC1620'> Exercice 7</span>\n",
    "\n",
    "Réaliser un programme avec la bibliothèque $turtle$ permettant de tracer successivement tous les polygones allant de 3 à 10 côtés. Utiliser deux boucles imbriquées pour cela.\n",
    "\n",
    "![double boucle](images/polys.png)"
   ]
  },
  {
   "cell_type": "code",
   "execution_count": 66,
   "metadata": {},
   "outputs": [],
   "source": []
  },
  {
   "cell_type": "markdown",
   "metadata": {},
   "source": [
    "Pour les plus rapides, modifier le programmes pour afficher un dégradé de couleur comme ceci : \n",
    "\n",
    "![dégradé](images/degrades.png)"
   ]
  },
  {
   "cell_type": "code",
   "execution_count": 86,
   "metadata": {},
   "outputs": [],
   "source": []
  },
  {
   "cell_type": "markdown",
   "metadata": {},
   "source": [
    "<div class=\"alert alert-block alert-info\"><font size=4>\n",
    "    \n",
    "**À retenir** \n",
    "\n",
    "Une boucle for permet de répéter une suite d'instructions regroupées en un bloc, c'est à dire écrite sur des lignes consécutives avec un même niveau d'indentation. Lee nombre de tours est prédéfini et chacun des tours est associé à un indice.\n",
    "</font></div>\n"
   ]
  },
  {
   "cell_type": "markdown",
   "metadata": {},
   "source": [
    "### 1.2 Boucle while ; boucle non bornée\n",
    "\n",
    "<div class=\"alert alert-block alert-info\"><font size=4>\n",
    "    \n",
    "**Boucle while**   (appelé aussi boucle tant que)\n",
    "\n",
    "Une boucle while se termine lorsqu’une condition est validée.\n",
    "Une telle boucle est une **boucle non bornée** car le nombre d’itération n’est pas connu à l’avance.\n",
    "\n",
    "**Syntaxe**\n",
    "\n",
    "While test:\n",
    "\n",
    ">Instruction\n",
    "\n",
    "```test``` est une expression booléenne, c’est-à-dire une expression qui prend pour valeur $True$ (Vrai) ou $False$ (Faux).\n",
    "\n",
    "L’instruction est exécutée tant que le test est True.\n",
    "</font></div>\n"
   ]
  },
  {
   "cell_type": "markdown",
   "metadata": {},
   "source": [
    "Remarques :\n",
    "\n",
    "* Une boucle while utilise un ou plusieurs paramètres pour vérifier si les itérations se poursuivent ou pas, ces paramètres doivent obligatoirement être définis en dehors de la bouche et doivent être modifiés dans la boucle.\n",
    "* Dans certains cas la boucle ne se termine pas car la réponse au test n’est jamais False. Cela crée un blocage du programme.\n",
    "* Lors de la programmation d’une boucle while il faut vérifier qu’elle se terminera."
   ]
  },
  {
   "cell_type": "markdown",
   "metadata": {},
   "source": [
    "## <span style='color:#AC1620'> Exercice 8</span>\n",
    "\n",
    "Exécuter le code suivante\n"
   ]
  },
  {
   "cell_type": "code",
   "execution_count": 39,
   "metadata": {},
   "outputs": [
    {
     "name": "stdout",
     "output_type": "stream",
     "text": [
      "1 au carré =  1\n",
      "2 au carré =  4\n",
      "3 au carré =  9\n",
      "4 au carré =  16\n",
      "5 au carré =  25\n",
      "Fini !\n"
     ]
    }
   ],
   "source": [
    "i = 1\n",
    "while i <= 5:\n",
    "    print(i, \"au carré = \", i**2)\n",
    "    i = i + 1\n",
    "print(\"Fini !\")"
   ]
  },
  {
   "cell_type": "markdown",
   "metadata": {},
   "source": [
    "2. Dans cette boucle, quelle est la première valeur de i ? Quelle est la dernière valeur de i ?\n",
    "3. Combien de fois cette boucle se répète-t-elle ? \n",
    "4. Répondre aux mêmes questions en modifiant la ligne 2 en while i < 5:"
   ]
  },
  {
   "cell_type": "markdown",
   "metadata": {},
   "source": [
    "<div class=\"alert alert-block alert-success\">\n",
    "<b>Réponses</b>\n",
    "</div>\n"
   ]
  },
  {
   "cell_type": "markdown",
   "metadata": {},
   "source": [
    "## <span style='color:#AC1620'> Exercice 9</span>\n",
    "\n",
    "Coder un programme qui correspond au problème suivant :\n",
    "*  En 2019 j’ai planté un arbre qui mesurait 1,20 m.\n",
    "*  Cet arbre grandit de 0,2 m par an.\n",
    "*  je veux le couper quand il dépassera 7 m.\n",
    "En quelle année est-ce que je devrais le couper ?"
   ]
  },
  {
   "cell_type": "code",
   "execution_count": null,
   "metadata": {},
   "outputs": [],
   "source": []
  },
  {
   "cell_type": "markdown",
   "metadata": {},
   "source": [
    "## <span style='color:#AC1620'> Exercice 10</span>\n",
    "\n",
    "\n",
    "Le code ci-dessous est destiné à afficher les carrés des nombres de 1 à 100. Ce code présente une erreur qui le rend inexploitable.\n",
    "1. Repérer cette erreur et l’expliquer.\n",
    "2. Corriger le code et vérifier son fonctionnement.\n"
   ]
  },
  {
   "cell_type": "code",
   "execution_count": null,
   "metadata": {},
   "outputs": [],
   "source": [
    "i=1\n",
    "s=0\n",
    "while i <=10:\n",
    "  s=s+1\n",
    "  print (s**2)"
   ]
  },
  {
   "cell_type": "markdown",
   "metadata": {},
   "source": [
    "<div class=\"alert alert-block alert-success\">\n",
    "<b>Réponse</b>\n",
    "</div>\n"
   ]
  },
  {
   "cell_type": "markdown",
   "metadata": {},
   "source": [
    "## 2. Instructions conditionnelles\n",
    "\n",
    "### 2.1. Instruction if...\n"
   ]
  },
  {
   "cell_type": "markdown",
   "metadata": {},
   "source": [
    "Il est parfois utile d’avoir une partie de programme qui ne s’exécute qu’à une condition. On parle d’instruction conditionnelle.\n",
    "En algorithmique, cela se traduit par : SI ``<condition>`` ALORS ``<instruction1>`` SINON ``<instruction2>``"
   ]
  },
  {
   "cell_type": "markdown",
   "metadata": {},
   "source": [
    "<div class=\"alert alert-block alert-info\"><font size=4>\n",
    "    \n",
    "**Instruction conditionnelle**\n",
    "\n",
    "Une instruction conditionnelle est une fonction qui effectue différents calculs ou actions, suivant l'évaluation d'une condition booléenne, à savoir vraie ou fausse.\n",
    "\n",
    "![truc](images/condition-if.png)\n",
    "\n",
    "</font></div>"
   ]
  },
  {
   "cell_type": "markdown",
   "metadata": {},
   "source": [
    "Une expression booléenne peut contenir les opérateurs de comparaison suivants : \n",
    "<TABLE BORDER=\"1\"> \n",
    "  <CAPTION> bibiothèque turtle</CAPTION> \n",
    "      <TR> \n",
    "         <TH width=50%> opérateur</TH> \n",
    "         <TH width=50%> signification</TH> \n",
    "      </TR> \n",
    "      <TR> \n",
    "         <TD> ```x==y``` </TD> \n",
    "         <TD> x est égal à y </TD> \n",
    "      </TR> \n",
    "      <TR> \n",
    "         <TD> ```x!=y``` </TD> \n",
    "         <TD> x est différent de y </TD> \n",
    "      </TR> \n",
    "      <TR> \n",
    "         <TD> ```x>y``` </TD> \n",
    "         <TD>x est plus grand que y </TD> \n",
    "      </TR> \n",
    "      <TR> \n",
    "         <TD> ``x < y`` </TD> \n",
    "         <TD> x est plus petit que y </TD> \n",
    "      </TR> \n",
    "       <TR> \n",
    "         <TD> ``x <= y`` </TD> \n",
    "         <TD> x est inférieur ou égal à y </TD> \n",
    "      </TR> \n",
    "           <TR> \n",
    "         <TD> ```x>=y``` </TD> \n",
    "         <TD>x est supérieur ou égal à y </TD> \n",
    "      </TR>\n",
    " </TABLE>"
   ]
  },
  {
   "cell_type": "markdown",
   "metadata": {},
   "source": [
    "<div class=\"alert alert-block alert-info\"><font size=4>\n",
    "    \n",
    "**syntaxe**\n",
    "\n",
    "if condition:\n",
    "\n",
    "    Instruction A\n",
    "\n",
    "condition est une expression booléenne, c’est-à-dire une expression qui prend pour valeur True (Vrai) ou False (Faux).\n",
    "\n",
    "L’instruction A n’est exécutée que si la condition est vérifiée (c’est-à-dire si elle prend pour valeur True).\n",
    "\n",
    "</font></div>"
   ]
  },
  {
   "cell_type": "markdown",
   "metadata": {},
   "source": [
    "## <span style='color:#AC1620'> Exercice 11</span>\n",
    "\n",
    "Coder un programme qui correspond à la description ci-dessous :\n",
    "* le programme demande à l’utilisateur de rentrer un nombre ;\n",
    "* si le nombre est positif le programme affiche ce nombre et le commentaire « est positif »\n",
    "* le programme affiche « Fin » dans tous les cas.\n",
    "\n",
    "Le tester avec des nombres positifs ou négatifs."
   ]
  },
  {
   "cell_type": "code",
   "execution_count": 67,
   "metadata": {},
   "outputs": [
    {
     "name": "stdout",
     "output_type": "stream",
     "text": [
      "Quel est le nombre à étudier ? -2\n",
      "Fin\n"
     ]
    }
   ],
   "source": [
    "x = float(input(\"Quel est le nombre à étudier ? \"))\n",
    "if x > 0:\n",
    "    print(x, \"est positif\")\n",
    "print(\"Fin\")"
   ]
  },
  {
   "cell_type": "markdown",
   "metadata": {},
   "source": [
    "## <a id=\"Ex12\"><span style='color:#AC1620'> Exercice 12</span></a>\n",
    "\n",
    "Écrire un programme  qui demande un entier $n$ à l'utilisateur et affiche tous les diviseurs."
   ]
  },
  {
   "cell_type": "code",
   "execution_count": 72,
   "metadata": {},
   "outputs": [
    {
     "name": "stdout",
     "output_type": "stream",
     "text": [
      "rentrer un entier positif : 126586\n",
      "1\n",
      "2\n",
      "167\n",
      "334\n",
      "379\n",
      "758\n",
      "63293\n"
     ]
    }
   ],
   "source": []
  },
  {
   "cell_type": "markdown",
   "metadata": {},
   "source": [
    "### 2.2. Instruction if...else"
   ]
  },
  {
   "cell_type": "markdown",
   "metadata": {},
   "source": [
    "<div class=\"alert alert-block alert-info\"><font size=4>\n",
    "    \n",
    "![ifelse](images/ifelse.png)  \n",
    "\n",
    "***\n",
    "    \n",
    "**syntaxe**\n",
    "\n",
    "\n",
    "if condition:\n",
    "\n",
    "  >Instruction A\n",
    "    \n",
    "else:\n",
    "\n",
    "  >Instruction B\n",
    "\n",
    "**condition** est une expression booléenne, c’est-à-dire une expression qui prend pour valeur True (Vrai) ou False (Faux).\n",
    "\n",
    "L’**instruction A** n’est exécutée que si la condition est vérifiée (c’est-à-dire si elle prend pour valeur **True**).\n",
    "L’**instruction B** n’est exécutée que si la condition n’est pas vérifiée (c’est-à-dire si elle prend pour valeur **False**).\n",
    "\n",
    "\n",
    "</font></div>"
   ]
  },
  {
   "cell_type": "markdown",
   "metadata": {},
   "source": [
    "<div class=\"alert alert-block alert-warning\">\n",
    "<b>Remarque</b> \n",
    "        \n",
    "* L’instruction else est au même niveau d’indentation que le if correspondant(alignement vertical).\n",
    "* Les blocs d’instruction A et B doivent être présentés avec une indentation.\n",
    "</div>\n"
   ]
  },
  {
   "cell_type": "markdown",
   "metadata": {},
   "source": [
    "Tester le code d'exemple suivant : \n"
   ]
  },
  {
   "cell_type": "code",
   "execution_count": 79,
   "metadata": {},
   "outputs": [
    {
     "name": "stdout",
     "output_type": "stream",
     "text": [
      "rentrer une nombre :-128.56\n",
      "-128.56 est négatif ou nul\n",
      "Fin\n"
     ]
    }
   ],
   "source": [
    "x=float(input(\"rentrer une nombre :\" ))\n",
    "if x > 0:\n",
    "    print(x, \"est positif\")\n",
    "else:\n",
    "    print(x, \"est négatif ou nul\")\n",
    "print(\"Fin\")"
   ]
  },
  {
   "cell_type": "markdown",
   "metadata": {},
   "source": [
    "## <span style='color:#AC1620'> Exercice 13</span>\n",
    "\n",
    "Reprendre le programme de [l'exercice 12](#Ex12) et le modifier pour : \n",
    "- que le programme indique si le nombre est premier, c'est à dire si le nombre n'est divisible que par 1 ou lui même ; \n",
    "- sinon, que le programme affiche qu'il n'est pas premier."
   ]
  },
  {
   "cell_type": "code",
   "execution_count": 82,
   "metadata": {},
   "outputs": [
    {
     "name": "stdout",
     "output_type": "stream",
     "text": [
      "rentrer un entier positif : 45856\n",
      "1\n",
      "2\n",
      "4\n",
      "8\n",
      "16\n",
      "32\n",
      "1433\n",
      "2866\n",
      "5732\n",
      "11464\n",
      "22928\n",
      "Le nombre 45856  n'est pas premier.\n"
     ]
    }
   ],
   "source": []
  },
  {
   "cell_type": "markdown",
   "metadata": {},
   "source": [
    "### 2.3. Instruction If...elif...else"
   ]
  },
  {
   "cell_type": "markdown",
   "metadata": {},
   "source": [
    "<div class=\"alert alert-block alert-info\"><font size=4>\n",
    "    \n",
    "![ifelifelse](images/ifelifelse.png)  \n",
    "\n",
    "***\n",
    "    \n",
    "**syntaxe**\n",
    "\n",
    "\n",
    "if condition1:\n",
    "\n",
    " > Instruction A\n",
    "\n",
    "elif condition2:\n",
    "\n",
    "> InstructionB\n",
    "\n",
    "else:\n",
    "\n",
    "> InstructionC\n",
    "\n",
    "**condition1** et **condition2** sont des expressions booléennes, c’est-à-dire des expressions qui prennent pour valeur **True** (Vrai) ou __False__ (Faux).\n",
    "\n",
    "L’**instruction A** n’est exécutée que si la condition1 est vérifiée (c’est-à-dire si elle prend pour valeur **True**).\n",
    "\n",
    "L’**instruction B** n’est exécutée que si la condition1 n’est pas vérifiée (c’est-à-dire si elle prend pour valeur False) et que simultanément la condition2 est vérifiée (c’est-à-dire si elle prend pour valeur **True**).\n",
    "\n",
    "L’**instruction C** n’est exécutée que si la condition1 et la condition2 ne sont pas vérifiées (c’est-à-dire si elles prennent pour valeur **False**).\n",
    "\n",
    "\n",
    "</font></div>\n",
    "\n",
    "En voici un exemple : "
   ]
  },
  {
   "cell_type": "code",
   "execution_count": 83,
   "metadata": {},
   "outputs": [
    {
     "name": "stdout",
     "output_type": "stream",
     "text": [
      "Quel est l'âge à étudier ? 18\n",
      "Vous venez juste d'atteindre la majorité\n"
     ]
    }
   ],
   "source": [
    "a = float(input(\"Quel est l'âge à étudier ? \"))\n",
    "if ( a <= 17 ) :\n",
    "    print (\"Vous êtes mineur\")\n",
    "elif ( a == 18 ) :\n",
    "    print(\"Vous venez juste d'atteindre la majorité\")\n",
    "else :\n",
    "    print (\"Vous êtes majeur\")"
   ]
  },
  {
   "cell_type": "markdown",
   "metadata": {},
   "source": [
    "## <span style='color:#AC1620'> Exercice 13</span>\n",
    "\n",
    "\n",
    "Coder un programme qui correspond à la description ci-dessous :\n",
    "- le programme demande à l’utilisateur de rentrer successivement trois notes sur 20 ;\n",
    "- le programme calcule la moyenne de ces notes ;\n",
    "- le programme affiche « C’est bon » si la moyenne est supérieure ou égale à 11 » ;\n",
    "- le programme affiche « C’est moyen » si la moyenne est supérieure ou égale à 9 et inférieure à 11 ;\n",
    "- le programme affiche « C’est mauvais » si la moyenne est inférieure à 9 ;\n",
    "- dans tous les cas le programme affiche « Fin du calcul ». \n",
    "\n",
    "Le tester avec différentes notes.\n",
    "Pour les plus rapides, le modifier pour exclure les notes erronées (notes supérieures à 20 ou inférieures à zéro)."
   ]
  },
  {
   "cell_type": "code",
   "execution_count": 84,
   "metadata": {},
   "outputs": [
    {
     "name": "stdout",
     "output_type": "stream",
     "text": [
      "Quelle est la note 1 ? 12\n",
      "Quelle est la note 2 ? 5\n",
      "Quelle est la note 3 ? 9\n",
      "moyenne = 8.666666666666666\n",
      "C'est mauvais\n",
      "Fin du calcul\n"
     ]
    }
   ],
   "source": []
  },
  {
   "cell_type": "code",
   "execution_count": null,
   "metadata": {},
   "outputs": [],
   "source": []
  }
 ],
 "metadata": {
  "kernelspec": {
   "display_name": "Python 3",
   "language": "python",
   "name": "python3"
  },
  "language_info": {
   "codemirror_mode": {
    "name": "ipython",
    "version": 3
   },
   "file_extension": ".py",
   "mimetype": "text/x-python",
   "name": "python",
   "nbconvert_exporter": "python",
   "pygments_lexer": "ipython3",
   "version": "3.7.3"
  }
 },
 "nbformat": 4,
 "nbformat_minor": 2
}
